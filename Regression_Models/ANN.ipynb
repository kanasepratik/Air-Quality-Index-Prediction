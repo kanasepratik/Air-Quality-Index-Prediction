{
 "cells": [
  {
   "cell_type": "code",
   "execution_count": 13,
   "metadata": {},
   "outputs": [
    {
     "name": "stderr",
     "output_type": "stream",
     "text": [
      "C:\\Users\\krish.naik\\AppData\\Local\\Continuum\\anaconda3\\envs\\myenv\\lib\\site-packages\\sklearn\\ensemble\\forest.py:246: FutureWarning: The default value of n_estimators will change from 10 in version 0.20 to 100 in 0.22.\n",
      "  \"10 in version 0.20 to 100 in 0.22.\", FutureWarning)\n"
     ]
    },
    {
     "data": {
      "text/plain": [
       "ExtraTreesRegressor(bootstrap=False, criterion='mse', max_depth=None,\n",
       "          max_features='auto', max_leaf_nodes=None,\n",
       "          min_impurity_decrease=0.0, min_impurity_split=None,\n",
       "          min_samples_leaf=1, min_samples_split=2,\n",
       "          min_weight_fraction_leaf=0.0, n_estimators=10, n_jobs=None,\n",
       "          oob_score=False, random_state=None, verbose=0, warm_start=False)"
      ]
     },
     "execution_count": 13,
     "metadata": {},
     "output_type": "execute_result"
    }
   ],
   "source": [
    "from sklearn.ensemble import ExtraTreesRegressor\n",
    "import matplotlib.pyplot as plt\n",
    "model = ExtraTreesRegressor()\n",
    "model.fit(X,y)"
   ]
  },
  {
   "cell_type": "code",
   "execution_count": 14,
   "metadata": {},
   "outputs": [
    {
     "data": {
      "text/html": [
       "<div>\n",
       "<style scoped>\n",
       "    .dataframe tbody tr th:only-of-type {\n",
       "        vertical-align: middle;\n",
       "    }\n",
       "\n",
       "    .dataframe tbody tr th {\n",
       "        vertical-align: top;\n",
       "    }\n",
       "\n",
       "    .dataframe thead th {\n",
       "        text-align: right;\n",
       "    }\n",
       "</style>\n",
       "<table border=\"1\" class=\"dataframe\">\n",
       "  <thead>\n",
       "    <tr style=\"text-align: right;\">\n",
       "      <th></th>\n",
       "      <th>T</th>\n",
       "      <th>TM</th>\n",
       "      <th>Tm</th>\n",
       "      <th>SLP</th>\n",
       "      <th>H</th>\n",
       "      <th>VV</th>\n",
       "      <th>V</th>\n",
       "      <th>VM</th>\n",
       "    </tr>\n",
       "  </thead>\n",
       "  <tbody>\n",
       "    <tr>\n",
       "      <th>0</th>\n",
       "      <td>7.4</td>\n",
       "      <td>9.8</td>\n",
       "      <td>4.8</td>\n",
       "      <td>1017.6</td>\n",
       "      <td>93.0</td>\n",
       "      <td>0.5</td>\n",
       "      <td>4.3</td>\n",
       "      <td>9.4</td>\n",
       "    </tr>\n",
       "    <tr>\n",
       "      <th>1</th>\n",
       "      <td>7.8</td>\n",
       "      <td>12.7</td>\n",
       "      <td>4.4</td>\n",
       "      <td>1018.5</td>\n",
       "      <td>87.0</td>\n",
       "      <td>0.6</td>\n",
       "      <td>4.4</td>\n",
       "      <td>11.1</td>\n",
       "    </tr>\n",
       "    <tr>\n",
       "      <th>2</th>\n",
       "      <td>6.7</td>\n",
       "      <td>13.4</td>\n",
       "      <td>2.4</td>\n",
       "      <td>1019.4</td>\n",
       "      <td>82.0</td>\n",
       "      <td>0.6</td>\n",
       "      <td>4.8</td>\n",
       "      <td>11.1</td>\n",
       "    </tr>\n",
       "    <tr>\n",
       "      <th>3</th>\n",
       "      <td>8.6</td>\n",
       "      <td>15.5</td>\n",
       "      <td>3.3</td>\n",
       "      <td>1018.7</td>\n",
       "      <td>72.0</td>\n",
       "      <td>0.8</td>\n",
       "      <td>8.1</td>\n",
       "      <td>20.6</td>\n",
       "    </tr>\n",
       "    <tr>\n",
       "      <th>4</th>\n",
       "      <td>12.4</td>\n",
       "      <td>20.9</td>\n",
       "      <td>4.4</td>\n",
       "      <td>1017.3</td>\n",
       "      <td>61.0</td>\n",
       "      <td>1.3</td>\n",
       "      <td>8.7</td>\n",
       "      <td>22.2</td>\n",
       "    </tr>\n",
       "  </tbody>\n",
       "</table>\n",
       "</div>"
      ],
      "text/plain": [
       "      T    TM   Tm     SLP     H   VV    V    VM\n",
       "0   7.4   9.8  4.8  1017.6  93.0  0.5  4.3   9.4\n",
       "1   7.8  12.7  4.4  1018.5  87.0  0.6  4.4  11.1\n",
       "2   6.7  13.4  2.4  1019.4  82.0  0.6  4.8  11.1\n",
       "3   8.6  15.5  3.3  1018.7  72.0  0.8  8.1  20.6\n",
       "4  12.4  20.9  4.4  1017.3  61.0  1.3  8.7  22.2"
      ]
     },
     "execution_count": 14,
     "metadata": {},
     "output_type": "execute_result"
    }
   ],
   "source": [
    "X.head()"
   ]
  },
  {
   "cell_type": "code",
   "execution_count": 15,
   "metadata": {},
   "outputs": [
    {
     "name": "stdout",
     "output_type": "stream",
     "text": [
      "[0.20248031 0.07752443 0.24654848 0.09223242 0.08942456 0.19806011\n",
      " 0.05312717 0.04060251]\n"
     ]
    }
   ],
   "source": [
    "print(model.feature_importances_)"
   ]
  },
  {
   "cell_type": "code",
   "execution_count": 16,
   "metadata": {},
   "outputs": [
    {
     "data": {
      "image/png": "[encoded data removed]",
      "text/plain": [
       "<Figure size 432x288 with 1 Axes>"
      ]
     },
     "metadata": {
      "needs_background": "light"
     },
     "output_type": "display_data"
    }
   ],
   "source": [
    "\n",
    "#plot graph of feature importances for better visualization\n",
    "feat_importances = pd.Series(model.feature_importances_, index=X.columns)\n",
    "feat_importances.nlargest(5).plot(kind='barh')\n",
    "plt.show()"
   ]
  },
  {
   "cell_type": "markdown",
   "metadata": {},
   "source": [
    "### ANN"
   ]
  },
  {
   "cell_type": "code",
   "execution_count": 17,
   "metadata": {},
   "outputs": [
    {
     "name": "stderr",
     "output_type": "stream",
     "text": [
      "C:\\Users\\krish.naik\\AppData\\Local\\Continuum\\anaconda3\\envs\\myenv\\lib\\site-packages\\scipy\\stats\\stats.py:1713: FutureWarning: Using a non-tuple sequence for multidimensional indexing is deprecated; use `arr[tuple(seq)]` instead of `arr[seq]`. In the future this will be interpreted as an array index, `arr[np.array(seq)]`, which will result either in an error or a different result.\n",
      "  return np.add.reduce(sorted[indexer] * weights, axis=axis) / sumval\n"
     ]
    },
    {
     "data": {
      "text/plain": [
       "<matplotlib.axes._subplots.AxesSubplot at 0x26df33fd3c8>"
      ]
     },
     "execution_count": 17,
     "metadata": {},
     "output_type": "execute_result"
    },
    {
     "data": {
      "image/png": "[encoded data removed]",
      "text/plain": [
       "<Figure size 432x288 with 1 Axes>"
      ]
     },
     "metadata": {
      "needs_background": "light"
     },
     "output_type": "display_data"
    }
   ],
   "source": [
    "sns.distplot(y)"
   ]
  },
  {
   "cell_type": "markdown",
   "metadata": {},
   "source": [
    "### Train Test split"
   ]
  },
  {
   "cell_type": "code",
   "execution_count": 9,
   "metadata": {},
   "outputs": [],
   "source": [
    "from sklearn.model_selection import train_test_split\n",
    "X_train, X_test, y_train, y_test = train_test_split(X, y, test_size=0.3, random_state=0)"
   ]
  },
  {
   "cell_type": "code",
   "execution_count": 11,
   "metadata": {},
   "outputs": [
    {
     "name": "stderr",
     "output_type": "stream",
     "text": [
      "Using TensorFlow backend.\n"
     ]
    }
   ],
   "source": [
    "# Part 2 - Now let's make the ANN!\n",
    "\n",
    "# Importing the Keras libraries and packages\n",
    "import keras\n",
    "from keras.models import Sequential\n",
    "from keras.layers import Dense\n",
    "from keras.layers import LeakyReLU,PReLU,ELU\n",
    "from keras.layers import Dropout"
   ]
  },
  {
   "cell_type": "code",
   "execution_count": 15,
   "metadata": {},
   "outputs": [
    {
     "name": "stdout",
     "output_type": "stream",
     "text": [
      "_________________________________________________________________\n",
      "Layer (type)                 Output Shape              Param #   \n",
      "=================================================================\n",
      "dense_10 (Dense)             (None, 128)               1152      \n",
      "_________________________________________________________________\n",
      "dense_11 (Dense)             (None, 256)               33024     \n",
      "_________________________________________________________________\n",
      "dense_12 (Dense)             (None, 256)               65792     \n",
      "_________________________________________________________________\n",
      "dense_13 (Dense)             (None, 256)               65792     \n",
      "_________________________________________________________________\n",
      "dense_14 (Dense)             (None, 1)                 257       \n",
      "=================================================================\n",
      "Total params: 166,017\n",
      "Trainable params: 166,017\n",
      "Non-trainable params: 0\n",
      "_________________________________________________________________\n"
     ]
    },
    {
     "name": "stderr",
     "output_type": "stream",
     "text": [
      "C:\\Users\\krish.naik\\AppData\\Local\\Continuum\\anaconda3\\envs\\myenv\\lib\\site-packages\\ipykernel_launcher.py:19: UserWarning: The `nb_epoch` argument in `fit` has been renamed `epochs`.\n"
     ]
    },
    {
     "name": "stdout",
     "output_type": "stream",
     "text": [
      "Train on 511 samples, validate on 253 samples\n",
      "Epoch 1/100\n",
      "511/511 [==============================] - 1s 2ms/step - loss: 78.4151 - mean_absolute_error: 78.4151 - val_loss: 46.2893 - val_mean_absolute_error: 46.2893\n",
      "Epoch 2/100\n",
      "511/511 [==============================] - 0s 315us/step - loss: 42.1976 - mean_absolute_error: 42.1976 - val_loss: 46.5331 - val_mean_absolute_error: 46.5331\n",
      "Epoch 3/100\n",
      "511/511 [==============================] - 0s 370us/step - loss: 38.0474 - mean_absolute_error: 38.0474 - val_loss: 45.2934 - val_mean_absolute_error: 45.2934\n",
      "Epoch 4/100\n",
      "511/511 [==============================] - 0s 360us/step - loss: 37.5284 - mean_absolute_error: 37.5284 - val_loss: 43.1351 - val_mean_absolute_error: 43.1351\n",
      "Epoch 5/100\n",
      "511/511 [==============================] - 0s 364us/step - loss: 36.8904 - mean_absolute_error: 36.8904 - val_loss: 43.9518 - val_mean_absolute_error: 43.9518\n",
      "Epoch 6/100\n",
      "511/511 [==============================] - 0s 350us/step - loss: 36.6624 - mean_absolute_error: 36.6624 - val_loss: 41.6148 - val_mean_absolute_error: 41.6148\n",
      "Epoch 7/100\n",
      "511/511 [==============================] - 0s 292us/step - loss: 38.2938 - mean_absolute_error: 38.2938 - val_loss: 42.7182 - val_mean_absolute_error: 42.7182\n",
      "Epoch 8/100\n",
      "511/511 [==============================] - 0s 297us/step - loss: 36.2230 - mean_absolute_error: 36.2230 - val_loss: 41.8580 - val_mean_absolute_error: 41.8580\n",
      "Epoch 9/100\n",
      "511/511 [==============================] - 0s 323us/step - loss: 39.1061 - mean_absolute_error: 39.1061 - val_loss: 41.7912 - val_mean_absolute_error: 41.7912\n",
      "Epoch 10/100\n",
      "511/511 [==============================] - 0s 364us/step - loss: 36.3579 - mean_absolute_error: 36.3579 - val_loss: 42.7423 - val_mean_absolute_error: 42.7423\n",
      "Epoch 11/100\n",
      "511/511 [==============================] - 0s 507us/step - loss: 34.6048 - mean_absolute_error: 34.6048 - val_loss: 40.7227 - val_mean_absolute_error: 40.7227\n",
      "Epoch 12/100\n",
      "511/511 [==============================] - 0s 446us/step - loss: 34.5932 - mean_absolute_error: 34.5932 - val_loss: 50.2038 - val_mean_absolute_error: 50.2038\n",
      "Epoch 13/100\n",
      "511/511 [==============================] - 0s 502us/step - loss: 35.1938 - mean_absolute_error: 35.1938 - val_loss: 40.4838 - val_mean_absolute_error: 40.4838\n",
      "Epoch 14/100\n",
      "511/511 [==============================] - 0s 453us/step - loss: 35.4196 - mean_absolute_error: 35.4196 - val_loss: 39.8152 - val_mean_absolute_error: 39.8152\n",
      "Epoch 15/100\n",
      "511/511 [==============================] - 0s 464us/step - loss: 34.5684 - mean_absolute_error: 34.5684 - val_loss: 39.6698 - val_mean_absolute_error: 39.6698\n",
      "Epoch 16/100\n",
      "511/511 [==============================] - 0s 481us/step - loss: 35.7879 - mean_absolute_error: 35.7879 - val_loss: 39.5185 - val_mean_absolute_error: 39.5185\n",
      "Epoch 17/100\n",
      "511/511 [==============================] - 0s 458us/step - loss: 33.9867 - mean_absolute_error: 33.9867 - val_loss: 40.3942 - val_mean_absolute_error: 40.3942\n",
      "Epoch 18/100\n",
      "511/511 [==============================] - 0s 434us/step - loss: 33.7556 - mean_absolute_error: 33.7556 - val_loss: 38.8305 - val_mean_absolute_error: 38.8305\n",
      "Epoch 19/100\n",
      "511/511 [==============================] - 0s 444us/step - loss: 33.4193 - mean_absolute_error: 33.4193 - val_loss: 39.1732 - val_mean_absolute_error: 39.1732\n",
      "Epoch 20/100\n",
      "511/511 [==============================] - 0s 446us/step - loss: 33.6540 - mean_absolute_error: 33.6540 - val_loss: 38.3196 - val_mean_absolute_error: 38.3196\n",
      "Epoch 21/100\n",
      "511/511 [==============================] - 0s 458us/step - loss: 32.8071 - mean_absolute_error: 32.8071 - val_loss: 38.3467 - val_mean_absolute_error: 38.3467\n",
      "Epoch 22/100\n",
      "511/511 [==============================] - 0s 454us/step - loss: 33.8598 - mean_absolute_error: 33.8598 - val_loss: 39.0454 - val_mean_absolute_error: 39.0454\n",
      "Epoch 23/100\n",
      "511/511 [==============================] - 0s 548us/step - loss: 32.8306 - mean_absolute_error: 32.8306 - val_loss: 40.3061 - val_mean_absolute_error: 40.3061\n",
      "Epoch 24/100\n",
      "511/511 [==============================] - 0s 554us/step - loss: 35.5654 - mean_absolute_error: 35.5654 - val_loss: 39.2883 - val_mean_absolute_error: 39.2883\n",
      "Epoch 25/100\n",
      "511/511 [==============================] - 0s 521us/step - loss: 33.1107 - mean_absolute_error: 33.1107 - val_loss: 38.3007 - val_mean_absolute_error: 38.3007\n",
      "Epoch 26/100\n",
      "511/511 [==============================] - 0s 526us/step - loss: 32.0844 - mean_absolute_error: 32.0844 - val_loss: 37.6960 - val_mean_absolute_error: 37.6960\n",
      "Epoch 27/100\n",
      "511/511 [==============================] - 0s 448us/step - loss: 32.2865 - mean_absolute_error: 32.2865 - val_loss: 37.4111 - val_mean_absolute_error: 37.4111\n",
      "Epoch 28/100\n",
      "511/511 [==============================] - 0s 450us/step - loss: 32.1244 - mean_absolute_error: 32.1244 - val_loss: 39.8186 - val_mean_absolute_error: 39.8186\n",
      "Epoch 29/100\n",
      "511/511 [==============================] - 0s 439us/step - loss: 32.7482 - mean_absolute_error: 32.7482 - val_loss: 37.4493 - val_mean_absolute_error: 37.4493\n",
      "Epoch 30/100\n",
      "511/511 [==============================] - 0s 419us/step - loss: 32.6695 - mean_absolute_error: 32.6695 - val_loss: 37.0932 - val_mean_absolute_error: 37.0932\n",
      "Epoch 31/100\n",
      "511/511 [==============================] - 0s 489us/step - loss: 32.1760 - mean_absolute_error: 32.1760 - val_loss: 38.4404 - val_mean_absolute_error: 38.4404\n",
      "Epoch 32/100\n",
      "511/511 [==============================] - 0s 503us/step - loss: 32.0874 - mean_absolute_error: 32.0874 - val_loss: 38.4265 - val_mean_absolute_error: 38.4265\n",
      "Epoch 33/100\n",
      "511/511 [==============================] - 0s 532us/step - loss: 31.5332 - mean_absolute_error: 31.5332 - val_loss: 38.2494 - val_mean_absolute_error: 38.2494\n",
      "Epoch 34/100\n",
      "511/511 [==============================] - 0s 512us/step - loss: 30.7051 - mean_absolute_error: 30.7051 - val_loss: 37.5195 - val_mean_absolute_error: 37.5195\n",
      "Epoch 35/100\n",
      "511/511 [==============================] - 0s 483us/step - loss: 31.1118 - mean_absolute_error: 31.1118 - val_loss: 36.8283 - val_mean_absolute_error: 36.8283\n",
      "Epoch 36/100\n",
      "511/511 [==============================] - 0s 456us/step - loss: 30.9591 - mean_absolute_error: 30.9591 - val_loss: 39.4044 - val_mean_absolute_error: 39.4044\n",
      "Epoch 37/100\n",
      "511/511 [==============================] - 0s 450us/step - loss: 32.6982 - mean_absolute_error: 32.6982 - val_loss: 36.3032 - val_mean_absolute_error: 36.3032\n",
      "Epoch 38/100\n",
      "511/511 [==============================] - 0s 501us/step - loss: 30.8110 - mean_absolute_error: 30.8110 - val_loss: 37.6965 - val_mean_absolute_error: 37.6965\n",
      "Epoch 39/100\n",
      "511/511 [==============================] - 0s 503us/step - loss: 30.4203 - mean_absolute_error: 30.4203 - val_loss: 36.3662 - val_mean_absolute_error: 36.3662\n",
      "Epoch 40/100\n",
      "511/511 [==============================] - 0s 470us/step - loss: 30.9462 - mean_absolute_error: 30.9462 - val_loss: 38.1332 - val_mean_absolute_error: 38.1332\n",
      "Epoch 41/100\n",
      "511/511 [==============================] - 0s 474us/step - loss: 31.3408 - mean_absolute_error: 31.3408 - val_loss: 37.5306 - val_mean_absolute_error: 37.5306\n",
      "Epoch 42/100\n",
      "511/511 [==============================] - 0s 442us/step - loss: 30.3904 - mean_absolute_error: 30.3904 - val_loss: 36.0620 - val_mean_absolute_error: 36.0620\n",
      "Epoch 43/100\n",
      "511/511 [==============================] - 0s 458us/step - loss: 30.4499 - mean_absolute_error: 30.4499 - val_loss: 36.4189 - val_mean_absolute_error: 36.4189\n",
      "Epoch 44/100\n",
      "511/511 [==============================] - 0s 440us/step - loss: 30.3677 - mean_absolute_error: 30.3677 - val_loss: 37.3876 - val_mean_absolute_error: 37.3876\n",
      "Epoch 45/100\n",
      "511/511 [==============================] - 0s 452us/step - loss: 30.8748 - mean_absolute_error: 30.8748 - val_loss: 37.4087 - val_mean_absolute_error: 37.4087\n",
      "Epoch 46/100\n",
      "511/511 [==============================] - 0s 432us/step - loss: 30.1148 - mean_absolute_error: 30.1148 - val_loss: 36.3946 - val_mean_absolute_error: 36.3946\n",
      "Epoch 47/100\n",
      "511/511 [==============================] - 0s 452us/step - loss: 30.0047 - mean_absolute_error: 30.0047 - val_loss: 35.5758 - val_mean_absolute_error: 35.5758\n",
      "Epoch 48/100\n",
      "511/511 [==============================] - 0s 424us/step - loss: 29.4274 - mean_absolute_error: 29.4274 - val_loss: 35.9932 - val_mean_absolute_error: 35.9932\n",
      "Epoch 49/100\n",
      "511/511 [==============================] - 0s 429us/step - loss: 29.8728 - mean_absolute_error: 29.8728 - val_loss: 36.5503 - val_mean_absolute_error: 36.5503\n",
      "Epoch 50/100\n",
      "511/511 [==============================] - 0s 415us/step - loss: 31.1390 - mean_absolute_error: 31.1390 - val_loss: 34.6324 - val_mean_absolute_error: 34.6324\n",
      "Epoch 51/100\n",
      "511/511 [==============================] - 0s 413us/step - loss: 29.2439 - mean_absolute_error: 29.2439 - val_loss: 34.9776 - val_mean_absolute_error: 34.9776\n",
      "Epoch 52/100\n",
      "511/511 [==============================] - 0s 483us/step - loss: 30.4134 - mean_absolute_error: 30.4134 - val_loss: 34.6430 - val_mean_absolute_error: 34.6430\n",
      "Epoch 53/100\n",
      "511/511 [==============================] - 0s 405us/step - loss: 31.1212 - mean_absolute_error: 31.1212 - val_loss: 39.2772 - val_mean_absolute_error: 39.2772\n",
      "Epoch 54/100\n",
      "511/511 [==============================] - 0s 431us/step - loss: 29.4385 - mean_absolute_error: 29.4385 - val_loss: 35.4063 - val_mean_absolute_error: 35.4063\n",
      "Epoch 55/100\n",
      "511/511 [==============================] - 0s 415us/step - loss: 29.0544 - mean_absolute_error: 29.0544 - val_loss: 37.2913 - val_mean_absolute_error: 37.2913\n",
      "Epoch 56/100\n",
      "511/511 [==============================] - 0s 444us/step - loss: 29.3049 - mean_absolute_error: 29.3049 - val_loss: 36.3199 - val_mean_absolute_error: 36.3199\n",
      "Epoch 57/100\n",
      "511/511 [==============================] - 0s 470us/step - loss: 29.1270 - mean_absolute_error: 29.1270 - val_loss: 35.7998 - val_mean_absolute_error: 35.7998\n",
      "Epoch 58/100\n",
      "511/511 [==============================] - 0s 436us/step - loss: 29.6905 - mean_absolute_error: 29.6905 - val_loss: 35.5369 - val_mean_absolute_error: 35.5369\n",
      "Epoch 59/100\n",
      "511/511 [==============================] - 0s 417us/step - loss: 28.0673 - mean_absolute_error: 28.0673 - val_loss: 36.7084 - val_mean_absolute_error: 36.7084\n",
      "Epoch 60/100\n",
      "511/511 [==============================] - 0s 423us/step - loss: 31.2099 - mean_absolute_error: 31.2099 - val_loss: 36.2061 - val_mean_absolute_error: 36.2061\n",
      "Epoch 61/100\n",
      "511/511 [==============================] - 0s 417us/step - loss: 27.8355 - mean_absolute_error: 27.8355 - val_loss: 37.5652 - val_mean_absolute_error: 37.5652\n",
      "Epoch 62/100\n",
      "511/511 [==============================] - 0s 431us/step - loss: 28.0767 - mean_absolute_error: 28.0767 - val_loss: 37.1986 - val_mean_absolute_error: 37.1986\n",
      "Epoch 63/100\n",
      "511/511 [==============================] - 0s 446us/step - loss: 30.8599 - mean_absolute_error: 30.8599 - val_loss: 34.5837 - val_mean_absolute_error: 34.5837\n",
      "Epoch 64/100\n",
      "511/511 [==============================] - 0s 417us/step - loss: 27.9236 - mean_absolute_error: 27.9236 - val_loss: 35.1295 - val_mean_absolute_error: 35.1295\n",
      "Epoch 65/100\n",
      "511/511 [==============================] - 0s 419us/step - loss: 27.0858 - mean_absolute_error: 27.0858 - val_loss: 35.4366 - val_mean_absolute_error: 35.4366\n",
      "Epoch 66/100\n",
      "511/511 [==============================] - 0s 440us/step - loss: 26.9498 - mean_absolute_error: 26.9498 - val_loss: 33.8433 - val_mean_absolute_error: 33.8433\n",
      "Epoch 67/100\n",
      "511/511 [==============================] - 0s 613us/step - loss: 28.7161 - mean_absolute_error: 28.7161 - val_loss: 34.6536 - val_mean_absolute_error: 34.6536\n",
      "Epoch 68/100\n",
      "511/511 [==============================] - 0s 482us/step - loss: 27.6937 - mean_absolute_error: 27.6937 - val_loss: 34.7397 - val_mean_absolute_error: 34.7397\n",
      "Epoch 69/100\n",
      "511/511 [==============================] - 0s 487us/step - loss: 26.8262 - mean_absolute_error: 26.8262 - val_loss: 33.6618 - val_mean_absolute_error: 33.6618\n",
      "Epoch 70/100\n",
      "511/511 [==============================] - 0s 429us/step - loss: 26.7634 - mean_absolute_error: 26.7634 - val_loss: 34.4337 - val_mean_absolute_error: 34.4337\n",
      "Epoch 71/100\n",
      "511/511 [==============================] - 0s 509us/step - loss: 29.0542 - mean_absolute_error: 29.0542 - val_loss: 35.7774 - val_mean_absolute_error: 35.7774\n",
      "Epoch 72/100\n",
      "511/511 [==============================] - 0s 587us/step - loss: 28.1874 - mean_absolute_error: 28.1874 - val_loss: 33.3981 - val_mean_absolute_error: 33.3981\n",
      "Epoch 73/100\n",
      "511/511 [==============================] - 0s 460us/step - loss: 25.9278 - mean_absolute_error: 25.9278 - val_loss: 36.8558 - val_mean_absolute_error: 36.8558\n",
      "Epoch 74/100\n",
      "511/511 [==============================] - 0s 515us/step - loss: 26.3019 - mean_absolute_error: 26.3019 - val_loss: 35.1475 - val_mean_absolute_error: 35.1475\n",
      "Epoch 75/100\n",
      "511/511 [==============================] - 0s 432us/step - loss: 25.5860 - mean_absolute_error: 25.5860 - val_loss: 33.2958 - val_mean_absolute_error: 33.2958\n",
      "Epoch 76/100\n",
      "511/511 [==============================] - 0s 559us/step - loss: 25.7140 - mean_absolute_error: 25.7140 - val_loss: 32.6074 - val_mean_absolute_error: 32.6074\n",
      "Epoch 77/100\n",
      "511/511 [==============================] - 0s 540us/step - loss: 26.0361 - mean_absolute_error: 26.0361 - val_loss: 36.0886 - val_mean_absolute_error: 36.0886\n",
      "Epoch 78/100\n",
      "511/511 [==============================] - 0s 519us/step - loss: 25.9820 - mean_absolute_error: 25.9820 - val_loss: 33.6002 - val_mean_absolute_error: 33.6002\n",
      "Epoch 79/100\n",
      "511/511 [==============================] - 0s 554us/step - loss: 24.8229 - mean_absolute_error: 24.8229 - val_loss: 34.9901 - val_mean_absolute_error: 34.9901\n",
      "Epoch 80/100\n",
      "511/511 [==============================] - 0s 523us/step - loss: 26.3463 - mean_absolute_error: 26.3463 - val_loss: 32.8381 - val_mean_absolute_error: 32.8381\n",
      "Epoch 81/100\n",
      "511/511 [==============================] - 0s 485us/step - loss: 25.5425 - mean_absolute_error: 25.5425 - val_loss: 35.0621 - val_mean_absolute_error: 35.0621\n",
      "Epoch 82/100\n",
      "511/511 [==============================] - 0s 515us/step - loss: 24.9130 - mean_absolute_error: 24.9130 - val_loss: 34.5632 - val_mean_absolute_error: 34.5632\n",
      "Epoch 83/100\n",
      "511/511 [==============================] - 0s 489us/step - loss: 24.5166 - mean_absolute_error: 24.5166 - val_loss: 33.1393 - val_mean_absolute_error: 33.1393\n",
      "Epoch 84/100\n",
      "511/511 [==============================] - 0s 523us/step - loss: 23.4016 - mean_absolute_error: 23.4016 - val_loss: 33.5813 - val_mean_absolute_error: 33.5813\n",
      "Epoch 85/100\n",
      "511/511 [==============================] - 0s 517us/step - loss: 25.1337 - mean_absolute_error: 25.1337 - val_loss: 33.8190 - val_mean_absolute_error: 33.8190\n",
      "Epoch 86/100\n",
      "511/511 [==============================] - 0s 526us/step - loss: 24.2228 - mean_absolute_error: 24.2228 - val_loss: 38.5723 - val_mean_absolute_error: 38.5723\n",
      "Epoch 87/100\n",
      "511/511 [==============================] - 0s 511us/step - loss: 25.5279 - mean_absolute_error: 25.5279 - val_loss: 33.9259 - val_mean_absolute_error: 33.9259\n",
      "Epoch 88/100\n",
      "511/511 [==============================] - 0s 493us/step - loss: 23.8604 - mean_absolute_error: 23.8604 - val_loss: 34.2333 - val_mean_absolute_error: 34.2333\n",
      "Epoch 89/100\n",
      "511/511 [==============================] - 0s 517us/step - loss: 24.4608 - mean_absolute_error: 24.4608 - val_loss: 33.9239 - val_mean_absolute_error: 33.9239\n",
      "Epoch 90/100\n",
      "511/511 [==============================] - 0s 507us/step - loss: 23.9266 - mean_absolute_error: 23.9266 - val_loss: 33.4618 - val_mean_absolute_error: 33.4618\n",
      "Epoch 91/100\n",
      "511/511 [==============================] - 0s 533us/step - loss: 24.7806 - mean_absolute_error: 24.7806 - val_loss: 34.5565 - val_mean_absolute_error: 34.5565\n",
      "Epoch 92/100\n",
      "511/511 [==============================] - 0s 544us/step - loss: 24.5903 - mean_absolute_error: 24.5903 - val_loss: 32.9069 - val_mean_absolute_error: 32.9069\n",
      "Epoch 93/100\n",
      "511/511 [==============================] - 0s 541us/step - loss: 21.9003 - mean_absolute_error: 21.9003 - val_loss: 34.3019 - val_mean_absolute_error: 34.3019\n",
      "Epoch 94/100\n",
      "511/511 [==============================] - 0s 519us/step - loss: 23.8817 - mean_absolute_error: 23.8817 - val_loss: 33.0492 - val_mean_absolute_error: 33.0492\n",
      "Epoch 95/100\n",
      "511/511 [==============================] - 0s 519us/step - loss: 23.0557 - mean_absolute_error: 23.0557 - val_loss: 33.2632 - val_mean_absolute_error: 33.2632\n"
     ]
    },
    {
     "name": "stdout",
     "output_type": "stream",
     "text": [
      "Epoch 96/100\n",
      "511/511 [==============================] - 0s 472us/step - loss: 24.0659 - mean_absolute_error: 24.0659 - val_loss: 34.6281 - val_mean_absolute_error: 34.6281\n",
      "Epoch 97/100\n",
      "511/511 [==============================] - 0s 470us/step - loss: 24.5521 - mean_absolute_error: 24.5521 - val_loss: 31.8978 - val_mean_absolute_error: 31.8978\n",
      "Epoch 98/100\n",
      "511/511 [==============================] - 0s 464us/step - loss: 23.4737 - mean_absolute_error: 23.4737 - val_loss: 35.5966 - val_mean_absolute_error: 35.5966\n",
      "Epoch 99/100\n",
      "511/511 [==============================] - 0s 487us/step - loss: 25.5242 - mean_absolute_error: 25.5242 - val_loss: 33.7538 - val_mean_absolute_error: 33.7538\n",
      "Epoch 100/100\n",
      "511/511 [==============================] - 0s 472us/step - loss: 23.3116 - mean_absolute_error: 23.3116 - val_loss: 33.2666 - val_mean_absolute_error: 33.2666\n"
     ]
    }
   ],
   "source": [
    "NN_model = Sequential()\n",
    "\n",
    "# The Input Layer :\n",
    "NN_model.add(Dense(128, kernel_initializer='normal',input_dim = X_train.shape[1], activation='relu'))\n",
    "\n",
    "# The Hidden Layers :\n",
    "NN_model.add(Dense(256, kernel_initializer='normal',activation='relu'))\n",
    "NN_model.add(Dense(256, kernel_initializer='normal',activation='relu'))\n",
    "NN_model.add(Dense(256, kernel_initializer='normal',activation='relu'))\n",
    "\n",
    "# The Output Layer :\n",
    "NN_model.add(Dense(1, kernel_initializer='normal',activation='linear'))\n",
    "\n",
    "# Compile the network :\n",
    "NN_model.compile(loss='mean_absolute_error', optimizer='adam', metrics=['mean_absolute_error'])\n",
    "NN_model.summary()\n",
    "\n",
    "# Fitting the ANN to the Training set\n",
    "model_history=NN_model.fit(X_train, y_train,validation_split=0.33, batch_size = 10, nb_epoch = 100)\n"
   ]
  },
  {
   "cell_type": "markdown",
   "metadata": {},
   "source": [
    "#### Model Evaluation"
   ]
  },
  {
   "cell_type": "code",
   "execution_count": 18,
   "metadata": {},
   "outputs": [],
   "source": [
    "prediction=NN_model.predict(X_test)"
   ]
  },
  {
   "cell_type": "code",
   "execution_count": 26,
   "metadata": {},
   "outputs": [
    {
     "data": {
      "text/plain": [
       "pandas.core.series.Series"
      ]
     },
     "execution_count": 26,
     "metadata": {},
     "output_type": "execute_result"
    }
   ],
   "source": [
    "y_test"
   ]
  },
  {
   "cell_type": "code",
   "execution_count": 27,
   "metadata": {},
   "outputs": [
    {
     "name": "stderr",
     "output_type": "stream",
     "text": [
      "C:\\Users\\krish.naik\\AppData\\Local\\Continuum\\anaconda3\\envs\\myenv\\lib\\site-packages\\scipy\\stats\\stats.py:1713: FutureWarning: Using a non-tuple sequence for multidimensional indexing is deprecated; use `arr[tuple(seq)]` instead of `arr[seq]`. In the future this will be interpreted as an array index, `arr[np.array(seq)]`, which will result either in an error or a different result.\n",
      "  return np.add.reduce(sorted[indexer] * weights, axis=axis) / sumval\n"
     ]
    },
    {
     "data": {
      "text/plain": [
       "<matplotlib.axes._subplots.AxesSubplot at 0x20450857668>"
      ]
     },
     "execution_count": 27,
     "metadata": {},
     "output_type": "execute_result"
    },
    {
     "data": {
      "image/png": "[encoded data removed]",
      "text/plain": [
       "<Figure size 432x288 with 1 Axes>"
      ]
     },
     "metadata": {
      "needs_background": "light"
     },
     "output_type": "display_data"
    }
   ],
   "source": [
    "sns.distplot(y_test.values.reshape(-1,1)-prediction)"
   ]
  },
  {
   "cell_type": "code",
   "execution_count": 28,
   "metadata": {},
   "outputs": [
    {
     "data": {
      "text/plain": [
       "<matplotlib.collections.PathCollection at 0x2045efcc048>"
      ]
     },
     "execution_count": 28,
     "metadata": {},
     "output_type": "execute_result"
    },
    {
     "data": {
      "image/png": "[encoded data removed]",
      "text/plain": [
       "<Figure size 432x288 with 1 Axes>"
      ]
     },
     "metadata": {
      "needs_background": "light"
     },
     "output_type": "display_data"
    }
   ],
   "source": [
    "plt.scatter(y_test,prediction)"
   ]
  },
  {
   "cell_type": "code",
   "execution_count": 30,
   "metadata": {},
   "outputs": [
    {
     "name": "stdout",
     "output_type": "stream",
     "text": [
      "MAE: 31.87020421483652\n",
      "MSE: 2491.6508633001677\n",
      "RMSE: 49.91643880827405\n"
     ]
    }
   ],
   "source": [
    "from sklearn import metrics\n",
    "print('MAE:', metrics.mean_absolute_error(y_test, prediction))\n",
    "print('MSE:', metrics.mean_squared_error(y_test, prediction))\n",
    "print('RMSE:', np.sqrt(metrics.mean_squared_error(y_test, prediction)))"
   ]
  },
  {
   "cell_type": "code",
   "execution_count": 50,
   "metadata": {},
   "outputs": [
    {
     "name": "stdout",
     "output_type": "stream",
     "text": [
      "MAE: 24.65656370121214\n",
      "MSE: 1677.0750087767076\n",
      "RMSE: 40.95210628010124\n"
     ]
    }
   ],
   "source": [
    "\n",
    "print('MAE:', metrics.mean_absolute_error(y_test, predictions))\n",
    "print('MSE:', metrics.mean_squared_error(y_test, predictions))\n",
    "print('RMSE:', np.sqrt(metrics.mean_squared_error(y_test, predictions)))"
   ]
  },
  {
   "cell_type": "markdown",
   "metadata": {},
   "source": [
    "# Regression Evaluation Metrics\n",
    "\n",
    "\n",
    "Here are three common evaluation metrics for regression problems:\n",
    "\n",
    "**Mean Absolute Error** (MAE) is the mean of the absolute value of the errors:\n",
    "\n",
    "$$\\frac 1n\\sum_{i=1}^n|y_i-\\hat{y}_i|$$\n",
    "\n",
    "**Mean Squared Error** (MSE) is the mean of the squared errors:\n",
    "\n",
    "$$\\frac 1n\\sum_{i=1}^n(y_i-\\hat{y}_i)^2$$\n",
    "\n",
    "**Root Mean Squared Error** (RMSE) is the square root of the mean of the squared errors:\n",
    "\n",
    "$$\\sqrt{\\frac 1n\\sum_{i=1}^n(y_i-\\hat{y}_i)^2}$$\n",
    "\n",
    "Comparing these metrics:\n",
    "\n",
    "- **MAE** is the easiest to understand, because it's the average error.\n",
    "- **MSE** is more popular than MAE, because MSE \"punishes\" larger errors, which tends to be useful in the real world.\n",
    "- **RMSE** is even more popular than MSE, because RMSE is interpretable in the \"y\" units.\n",
    "\n",
    "All of these are **loss functions**, because we want to minimize them."
   ]
  },
  {
   "cell_type": "code",
   "execution_count": 29,
   "metadata": {},
   "outputs": [],
   "source": [
    "from sklearn import metrics"
   ]
  },
  {
   "cell_type": "code",
   "execution_count": 30,
   "metadata": {},
   "outputs": [
    {
     "name": "stdout",
     "output_type": "stream",
     "text": [
      "MAE: 25.245581808943093\n",
      "MSE: 1681.8142776645072\n",
      "RMSE: 41.009929013161035\n"
     ]
    }
   ],
   "source": [
    "print('MAE:', metrics.mean_absolute_error(y_test, prediction))\n",
    "print('MSE:', metrics.mean_squared_error(y_test, prediction))\n",
    "print('RMSE:', np.sqrt(metrics.mean_squared_error(y_test, prediction)))"
   ]
  },
  {
   "cell_type": "code",
   "execution_count": 117,
   "metadata": {},
   "outputs": [],
   "source": [
    "import pickle "
   ]
  },
  {
   "cell_type": "code",
   "execution_count": 52,
   "metadata": {},
   "outputs": [],
   "source": [
    "# open a file, where you ant to store the data\n",
    "file = open('random_forest_regression_model.pkl', 'wb')\n",
    "\n",
    "# dump information to that file\n",
    "pickle.dump(rf_random, file)"
   ]
  },
  {
   "cell_type": "code",
   "execution_count": null,
   "metadata": {},
   "outputs": [],
   "source": []
  }
 ],
 "metadata": {
  "kernelspec": {
   "display_name": "Python 3",
   "language": "python",
   "name": "python3"
  },
  "language_info": {
   "codemirror_mode": {
    "name": "ipython",
    "version": 3
   },
   "file_extension": ".py",
   "mimetype": "text/x-python",
   "name": "python",
   "nbconvert_exporter": "python",
   "pygments_lexer": "ipython3",
   "version": "3.7.3"
  }
 },
 "nbformat": 4,
 "nbformat_minor": 2
}
